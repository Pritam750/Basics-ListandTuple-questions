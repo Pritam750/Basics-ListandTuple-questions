{
 "cells": [
  {
   "cell_type": "code",
   "execution_count": 1,
   "id": "232ef66b",
   "metadata": {},
   "outputs": [],
   "source": [
    "import pandas as pd "
   ]
  },
  {
   "cell_type": "code",
   "execution_count": 2,
   "id": "7ba0c22c",
   "metadata": {},
   "outputs": [],
   "source": [
    "student_marks= [['Name',   ['A','B','C','D','E']],\n",
    "               ['Ankit',   [41, 34, 45, 55, 63]],\n",
    "               ['Aravind', [42, 23, 34, 44, 53]],\n",
    "               ['Lakshay', [32, 23, 13, 54, 67]],\n",
    "               ['Gyan',    [23, 82, 23, 63, 34]],\n",
    "               ['Pranav',  [21, 23, 25, 56, 56]],\n",
    "              ]"
   ]
  },
  {
   "cell_type": "markdown",
   "id": "465c88fd",
   "metadata": {},
   "source": [
    "# Who scored the highest marks in the subject B?\n"
   ]
  },
  {
   "cell_type": "code",
   "execution_count": 3,
   "id": "8b92f7d6",
   "metadata": {},
   "outputs": [
    {
     "name": "stdout",
     "output_type": "stream",
     "text": [
      "Ankit 34\n",
      "Aravind 23\n",
      "Lakshay 23\n",
      "Gyan 82\n",
      "Pranav 23\n"
     ]
    }
   ],
   "source": [
    "for student in student_marks[1:]:\n",
    "    name = student[0]\n",
    "    marks_in_B = student[1][1]\n",
    "    \n",
    "    print(name,marks_in_B)"
   ]
  },
  {
   "cell_type": "code",
   "execution_count": 4,
   "id": "2aff6d87",
   "metadata": {},
   "outputs": [],
   "source": [
    "student_with_marks_in_B = []\n",
    "\n",
    "for student in student_marks[1:]:\n",
    "    name = student[0]\n",
    "    marks_in_B = student[1][1]\n",
    "    \n",
    "    student_with_marks_in_B.append([marks_in_B,name])"
   ]
  },
  {
   "cell_type": "code",
   "execution_count": 5,
   "id": "568c1537",
   "metadata": {},
   "outputs": [
    {
     "data": {
      "text/plain": [
       "[[34, 'Ankit'], [23, 'Aravind'], [23, 'Lakshay'], [82, 'Gyan'], [23, 'Pranav']]"
      ]
     },
     "execution_count": 5,
     "metadata": {},
     "output_type": "execute_result"
    }
   ],
   "source": [
    "student_with_marks_in_B"
   ]
  },
  {
   "cell_type": "code",
   "execution_count": 6,
   "id": "42888dda",
   "metadata": {},
   "outputs": [
    {
     "data": {
      "text/plain": [
       "[[23, 'Aravind'], [23, 'Lakshay'], [23, 'Pranav'], [34, 'Ankit'], [82, 'Gyan']]"
      ]
     },
     "execution_count": 6,
     "metadata": {},
     "output_type": "execute_result"
    }
   ],
   "source": [
    "sorted(student_with_marks_in_B)"
   ]
  },
  {
   "cell_type": "code",
   "execution_count": 7,
   "id": "2b4f95d3",
   "metadata": {},
   "outputs": [
    {
     "data": {
      "text/plain": [
       "'Gyan'"
      ]
     },
     "execution_count": 7,
     "metadata": {},
     "output_type": "execute_result"
    }
   ],
   "source": [
    "sorted(student_with_marks_in_B, reverse=True)[0][1]"
   ]
  },
  {
   "cell_type": "markdown",
   "id": "fb969bd7",
   "metadata": {},
   "source": [
    "# What is the average marks scored in the subject C?"
   ]
  },
  {
   "cell_type": "code",
   "execution_count": 8,
   "id": "22e33bbb",
   "metadata": {},
   "outputs": [
    {
     "name": "stdout",
     "output_type": "stream",
     "text": [
      "Ankit 45\n",
      "Aravind 34\n",
      "Lakshay 13\n",
      "Gyan 23\n",
      "Pranav 25\n"
     ]
    }
   ],
   "source": [
    "for student in student_marks[1:]:\n",
    "    name = student[0]\n",
    "    mark_in_C = student[1][2]\n",
    "    \n",
    "    print(name,mark_in_C)"
   ]
  },
  {
   "cell_type": "code",
   "execution_count": 9,
   "id": "2123e305",
   "metadata": {},
   "outputs": [],
   "source": [
    "total_mark_in_C = []\n",
    "\n",
    "for student in student_marks[1:]:\n",
    "    marks_in_C = student[1][2]\n",
    "    \n",
    "    total_mark_in_C.append(marks_in_C)"
   ]
  },
  {
   "cell_type": "code",
   "execution_count": 10,
   "id": "58ade26b",
   "metadata": {},
   "outputs": [
    {
     "data": {
      "text/plain": [
       "[45, 34, 13, 23, 25]"
      ]
     },
     "execution_count": 10,
     "metadata": {},
     "output_type": "execute_result"
    }
   ],
   "source": [
    "total_mark_in_C"
   ]
  },
  {
   "cell_type": "code",
   "execution_count": 11,
   "id": "196bf73d",
   "metadata": {},
   "outputs": [
    {
     "name": "stdout",
     "output_type": "stream",
     "text": [
      "The average marks scored in subject C is: 28.0\n"
     ]
    }
   ],
   "source": [
    "average_marks_in_C = sum(total_mark_in_C) / len(total_mark_in_C)\n",
    "print(\"The average marks scored in subject C is:\",average_marks_in_C)"
   ]
  },
  {
   "cell_type": "markdown",
   "id": "ae04caf0",
   "metadata": {},
   "source": [
    "# Who scored the highest percentage of marks?\n"
   ]
  },
  {
   "cell_type": "code",
   "execution_count": 12,
   "id": "a9dacb2c",
   "metadata": {},
   "outputs": [],
   "source": [
    "student_percentages = []\n",
    "for student_data in student_marks[1:]:\n",
    "    name = student_data[0]\n",
    "    marks = student_data[1]\n",
    "    total_marks = sum(marks)\n",
    "    percentage = (total_marks / (len(marks)*100))*100\n",
    "    student_percentages.append((name, percentage))"
   ]
  },
  {
   "cell_type": "code",
   "execution_count": 13,
   "id": "944ea955",
   "metadata": {
    "scrolled": true
   },
   "outputs": [
    {
     "data": {
      "text/plain": [
       "[('Ankit', 47.599999999999994),\n",
       " ('Aravind', 39.2),\n",
       " ('Lakshay', 37.8),\n",
       " ('Gyan', 45.0),\n",
       " ('Pranav', 36.199999999999996)]"
      ]
     },
     "execution_count": 13,
     "metadata": {},
     "output_type": "execute_result"
    }
   ],
   "source": [
    "student_percentages"
   ]
  },
  {
   "cell_type": "code",
   "execution_count": 14,
   "id": "ff8355a9",
   "metadata": {},
   "outputs": [],
   "source": [
    "student_percentages.sort(key=lambda x: x[1], reverse=True)"
   ]
  },
  {
   "cell_type": "code",
   "execution_count": 15,
   "id": "c0b6b0d4",
   "metadata": {},
   "outputs": [],
   "source": [
    "highest_percentage_student = student_percentages[0]"
   ]
  },
  {
   "cell_type": "code",
   "execution_count": 16,
   "id": "07592a25",
   "metadata": {},
   "outputs": [
    {
     "name": "stdout",
     "output_type": "stream",
     "text": [
      "The highest percentage of marks is Ankit with 47.599999999999994\n"
     ]
    }
   ],
   "source": [
    "print(\"The highest percentage of marks is\", highest_percentage_student[0], \"with\", highest_percentage_student[1])"
   ]
  },
  {
   "cell_type": "markdown",
   "id": "e36f682c",
   "metadata": {},
   "source": [
    "# If considered only top-4 subjects of a candidate, then who scored the highest percentage of marks?"
   ]
  },
  {
   "cell_type": "code",
   "execution_count": 17,
   "id": "5b442a68",
   "metadata": {},
   "outputs": [],
   "source": [
    "student_percentages = []\n",
    "for student_data in student_marks[1:]:\n",
    "    name = student_data[0]\n",
    "    marks = sorted(student_data[1], reverse=True)[:4]  \n",
    "    total_marks = sum(marks)\n",
    "    percentage = (total_marks / (len(marks)*100)) * 100\n",
    "    student_percentages.append((name, percentage))"
   ]
  },
  {
   "cell_type": "code",
   "execution_count": 18,
   "id": "75bde2c7",
   "metadata": {},
   "outputs": [],
   "source": [
    "student_percentages.sort(key=lambda x: x[1], reverse=True)"
   ]
  },
  {
   "cell_type": "code",
   "execution_count": 19,
   "id": "806fdfc0",
   "metadata": {},
   "outputs": [],
   "source": [
    "highest_percentage_student = student_percentages[0]"
   ]
  },
  {
   "cell_type": "code",
   "execution_count": 20,
   "id": "c12d9b95",
   "metadata": {},
   "outputs": [
    {
     "name": "stdout",
     "output_type": "stream",
     "text": [
      "The student with the highest percentage of marks WITH top 4 subject is Ankit with 51.0\n"
     ]
    }
   ],
   "source": [
    "print(\"The student with the highest percentage of marks WITH top 4 subject is\", highest_percentage_student[0], \"with\", highest_percentage_student[1])"
   ]
  }
 ],
 "metadata": {
  "kernelspec": {
   "display_name": "Python 3 (ipykernel)",
   "language": "python",
   "name": "python3"
  },
  "language_info": {
   "codemirror_mode": {
    "name": "ipython",
    "version": 3
   },
   "file_extension": ".py",
   "mimetype": "text/x-python",
   "name": "python",
   "nbconvert_exporter": "python",
   "pygments_lexer": "ipython3",
   "version": "3.9.13"
  }
 },
 "nbformat": 4,
 "nbformat_minor": 5
}
